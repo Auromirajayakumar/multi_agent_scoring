{
 "cells": [
  {
   "cell_type": "code",
   "execution_count": 13,
   "id": "8a2f0e38",
   "metadata": {},
   "outputs": [],
   "source": [
    "import sys\n",
    "import os\n",
    "\n",
    "# Add project root to system path\n",
    "project_root = os.path.abspath(\"..\")\n",
    "sys.path.append(project_root)\n",
    "\n",
    "from agents.scorer import scorer_agent\n",
    "from agents.feedback import feedback_agent\n",
    "from agents.validator import validator_agent"
   ]
  },
  {
   "cell_type": "markdown",
   "id": "f72be31b",
   "metadata": {},
   "source": [
    "## Transcript Input\n",
    "This is the sample transcript we’re evaluating.\n",
    "\n"
   ]
  },
  {
   "cell_type": "code",
   "execution_count": 14,
   "id": "258bfa80",
   "metadata": {},
   "outputs": [],
   "source": [
    "transcript = \"AI is transforming education by enabling personalized learning and automating administrative tasks.\""
   ]
  },
  {
   "cell_type": "markdown",
   "id": "8deeb4a3",
   "metadata": {},
   "source": [
    "## Rubric-Based Scoring\n",
    "The `scorer_agent` returns a weighted score and a breakdown of clarity, relevance, and depth.\n",
    "\n"
   ]
  },
  {
   "cell_type": "code",
   "execution_count": 15,
   "id": "d4219a04",
   "metadata": {},
   "outputs": [
    {
     "name": "stdout",
     "output_type": "stream",
     "text": [
      "Rubric Score: 6.65\n",
      "Breakdown: {'clarity': 8.0, 'relevance': 6.0, 'depth': 5.5}\n"
     ]
    }
   ],
   "source": [
    "score_data = scorer_agent(transcript)\n",
    "score = score_data[\"score\"]\n",
    "breakdown = score_data[\"breakdown\"]\n",
    "\n",
    "print(\"Rubric Score:\", score)\n",
    "print(\"Breakdown:\", breakdown)"
   ]
  },
  {
   "cell_type": "code",
   "execution_count": 16,
   "id": "a3e9a479",
   "metadata": {},
   "outputs": [
    {
     "name": "stdout",
     "output_type": "stream",
     "text": [
      "LLM Feedback: Error generating feedback: \n",
      "\n",
      "You tried to access openai.ChatCompletion, but this is no longer supported in openai>=1.0.0 - see the README at https://github.com/openai/openai-python for the API.\n",
      "\n",
      "You can run `openai migrate` to automatically upgrade your codebase to use the 1.0.0 interface. \n",
      "\n",
      "Alternatively, you can pin your installation to the old version, e.g. `pip install openai==0.28`\n",
      "\n",
      "A detailed migration guide is available here: https://github.com/openai/openai-python/discussions/742\n",
      "\n"
     ]
    }
   ],
   "source": [
    "feedback = feedback_agent(transcript, score)\n",
    "print(\"LLM Feedback:\", feedback)"
   ]
  },
  {
   "cell_type": "markdown",
   "id": "efeb4e15",
   "metadata": {},
   "source": [
    "## LLM Feedback\n",
    "The `feedback_agent` uses the score and transcript to generate constructive feedback.\n",
    "\n"
   ]
  },
  {
   "cell_type": "code",
   "execution_count": 17,
   "id": "bfbd0fd9",
   "metadata": {},
   "outputs": [
    {
     "name": "stdout",
     "output_type": "stream",
     "text": [
      "Validator Reasoning: Score indicates moderate clarity and relevance, but limited depth.\n"
     ]
    }
   ],
   "source": [
    "reasoning = validator_agent(transcript, score, feedback)\n",
    "print(\"Validator Reasoning:\", reasoning)"
   ]
  },
  {
   "cell_type": "markdown",
   "id": "bf001f93",
   "metadata": {},
   "source": [
    "## Validator Reasoning\n",
    "The `validator_agent` checks if the score and feedback align with the transcript’s content.\n"
   ]
  }
 ],
 "metadata": {
  "kernelspec": {
   "display_name": ".venv",
   "language": "python",
   "name": "python3"
  },
  "language_info": {
   "codemirror_mode": {
    "name": "ipython",
    "version": 3
   },
   "file_extension": ".py",
   "mimetype": "text/x-python",
   "name": "python",
   "nbconvert_exporter": "python",
   "pygments_lexer": "ipython3",
   "version": "3.13.5"
  }
 },
 "nbformat": 4,
 "nbformat_minor": 5
}
